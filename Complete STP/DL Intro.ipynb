{
 "cells": [
  {
   "cell_type": "code",
   "execution_count": 1,
   "id": "e07389fd-94a9-4a30-8b98-df29de167ba2",
   "metadata": {},
   "outputs": [],
   "source": [
    "# ML iris Project, SL, PL, SW, PL\n",
    "# Petal Depth, Sepal Depth\n",
    "# Machine learning Input features shape fixed"
   ]
  },
  {
   "cell_type": "code",
   "execution_count": 5,
   "id": "a98c1fb8-cc90-40f4-94c7-e77189349a66",
   "metadata": {},
   "outputs": [],
   "source": [
    "# actual : 40 columns\n",
    "# Model : 10:\n",
    "# 40*10"
   ]
  },
  {
   "cell_type": "code",
   "execution_count": 1,
   "id": "49b8f719-31c7-4d16-9fb0-234a0c352fa9",
   "metadata": {},
   "outputs": [],
   "source": [
    "# Elon is Musk this\n",
    "# this is Elon Musk\n",
    "# is this Elon Musk"
   ]
  },
  {
   "cell_type": "code",
   "execution_count": 3,
   "id": "b689687f-5357-4828-b4c3-7f5dfd3ebced",
   "metadata": {},
   "outputs": [],
   "source": [
    "# Simple Neural Network(SNN)\n",
    "# Feed Forward Neural Network(FNN)\n",
    "# Artificial Neural Network (ANN)"
   ]
  },
  {
   "cell_type": "code",
   "execution_count": 5,
   "id": "36f76d12-ca64-4d50-9d43-d56e75322a69",
   "metadata": {},
   "outputs": [],
   "source": [
    "# Machine Learning: Sckit-learn\n",
    "# Deep learning: arrays, 1dim, 2dim, 3dim, 4dim, etc: tensors\n",
    "# Deep Learning: Module : tensorflow"
   ]
  },
  {
   "cell_type": "code",
   "execution_count": 9,
   "id": "ef88248e-2cdc-4e5a-a7d4-4ecd218204fc",
   "metadata": {},
   "outputs": [
    {
     "name": "stdout",
     "output_type": "stream",
     "text": [
      "Done\n"
     ]
    }
   ],
   "source": [
    "import tensorflow as tf\n",
    "print('Done')"
   ]
  },
  {
   "cell_type": "code",
   "execution_count": 11,
   "id": "a6c280e5-3371-4590-841f-f7083fb4ddbf",
   "metadata": {},
   "outputs": [],
   "source": [
    "# pip install tensorflow: created by google"
   ]
  },
  {
   "cell_type": "code",
   "execution_count": 13,
   "id": "5fc99a76-07dd-4ca4-9c21-eec8f1c79032",
   "metadata": {},
   "outputs": [],
   "source": [
    "from sklearn.datasets import load_iris"
   ]
  },
  {
   "cell_type": "code",
   "execution_count": 15,
   "id": "e12679a3-c72c-4320-aea6-1c3a83c678a4",
   "metadata": {},
   "outputs": [],
   "source": [
    "iris = load_iris()"
   ]
  },
  {
   "cell_type": "code",
   "execution_count": 36,
   "id": "14988023-d425-491d-9850-a4774aadd0d6",
   "metadata": {},
   "outputs": [
    {
     "data": {
      "text/plain": [
       "(150, 4)"
      ]
     },
     "execution_count": 36,
     "metadata": {},
     "output_type": "execute_result"
    }
   ],
   "source": [
    "iris.data.shape"
   ]
  },
  {
   "cell_type": "code",
   "execution_count": 38,
   "id": "a2258378-0454-41d5-bcc8-50b62c947f2d",
   "metadata": {},
   "outputs": [
    {
     "data": {
      "text/plain": [
       "array([[5.1, 3.5, 1.4, 0.2],\n",
       "       [4.9, 3. , 1.4, 0.2],\n",
       "       [4.7, 3.2, 1.3, 0.2],\n",
       "       [4.6, 3.1, 1.5, 0.2],\n",
       "       [5. , 3.6, 1.4, 0.2],\n",
       "       [5.4, 3.9, 1.7, 0.4],\n",
       "       [4.6, 3.4, 1.4, 0.3],\n",
       "       [5. , 3.4, 1.5, 0.2],\n",
       "       [4.4, 2.9, 1.4, 0.2],\n",
       "       [4.9, 3.1, 1.5, 0.1],\n",
       "       [5.4, 3.7, 1.5, 0.2],\n",
       "       [4.8, 3.4, 1.6, 0.2],\n",
       "       [4.8, 3. , 1.4, 0.1],\n",
       "       [4.3, 3. , 1.1, 0.1],\n",
       "       [5.8, 4. , 1.2, 0.2],\n",
       "       [5.7, 4.4, 1.5, 0.4],\n",
       "       [5.4, 3.9, 1.3, 0.4],\n",
       "       [5.1, 3.5, 1.4, 0.3],\n",
       "       [5.7, 3.8, 1.7, 0.3],\n",
       "       [5.1, 3.8, 1.5, 0.3],\n",
       "       [5.4, 3.4, 1.7, 0.2],\n",
       "       [5.1, 3.7, 1.5, 0.4],\n",
       "       [4.6, 3.6, 1. , 0.2],\n",
       "       [5.1, 3.3, 1.7, 0.5],\n",
       "       [4.8, 3.4, 1.9, 0.2],\n",
       "       [5. , 3. , 1.6, 0.2],\n",
       "       [5. , 3.4, 1.6, 0.4],\n",
       "       [5.2, 3.5, 1.5, 0.2],\n",
       "       [5.2, 3.4, 1.4, 0.2],\n",
       "       [4.7, 3.2, 1.6, 0.2],\n",
       "       [4.8, 3.1, 1.6, 0.2],\n",
       "       [5.4, 3.4, 1.5, 0.4],\n",
       "       [5.2, 4.1, 1.5, 0.1],\n",
       "       [5.5, 4.2, 1.4, 0.2],\n",
       "       [4.9, 3.1, 1.5, 0.2],\n",
       "       [5. , 3.2, 1.2, 0.2],\n",
       "       [5.5, 3.5, 1.3, 0.2],\n",
       "       [4.9, 3.6, 1.4, 0.1],\n",
       "       [4.4, 3. , 1.3, 0.2],\n",
       "       [5.1, 3.4, 1.5, 0.2],\n",
       "       [5. , 3.5, 1.3, 0.3],\n",
       "       [4.5, 2.3, 1.3, 0.3],\n",
       "       [4.4, 3.2, 1.3, 0.2],\n",
       "       [5. , 3.5, 1.6, 0.6],\n",
       "       [5.1, 3.8, 1.9, 0.4],\n",
       "       [4.8, 3. , 1.4, 0.3],\n",
       "       [5.1, 3.8, 1.6, 0.2],\n",
       "       [4.6, 3.2, 1.4, 0.2],\n",
       "       [5.3, 3.7, 1.5, 0.2],\n",
       "       [5. , 3.3, 1.4, 0.2],\n",
       "       [7. , 3.2, 4.7, 1.4],\n",
       "       [6.4, 3.2, 4.5, 1.5],\n",
       "       [6.9, 3.1, 4.9, 1.5],\n",
       "       [5.5, 2.3, 4. , 1.3],\n",
       "       [6.5, 2.8, 4.6, 1.5],\n",
       "       [5.7, 2.8, 4.5, 1.3],\n",
       "       [6.3, 3.3, 4.7, 1.6],\n",
       "       [4.9, 2.4, 3.3, 1. ],\n",
       "       [6.6, 2.9, 4.6, 1.3],\n",
       "       [5.2, 2.7, 3.9, 1.4],\n",
       "       [5. , 2. , 3.5, 1. ],\n",
       "       [5.9, 3. , 4.2, 1.5],\n",
       "       [6. , 2.2, 4. , 1. ],\n",
       "       [6.1, 2.9, 4.7, 1.4],\n",
       "       [5.6, 2.9, 3.6, 1.3],\n",
       "       [6.7, 3.1, 4.4, 1.4],\n",
       "       [5.6, 3. , 4.5, 1.5],\n",
       "       [5.8, 2.7, 4.1, 1. ],\n",
       "       [6.2, 2.2, 4.5, 1.5],\n",
       "       [5.6, 2.5, 3.9, 1.1],\n",
       "       [5.9, 3.2, 4.8, 1.8],\n",
       "       [6.1, 2.8, 4. , 1.3],\n",
       "       [6.3, 2.5, 4.9, 1.5],\n",
       "       [6.1, 2.8, 4.7, 1.2],\n",
       "       [6.4, 2.9, 4.3, 1.3],\n",
       "       [6.6, 3. , 4.4, 1.4],\n",
       "       [6.8, 2.8, 4.8, 1.4],\n",
       "       [6.7, 3. , 5. , 1.7],\n",
       "       [6. , 2.9, 4.5, 1.5],\n",
       "       [5.7, 2.6, 3.5, 1. ],\n",
       "       [5.5, 2.4, 3.8, 1.1],\n",
       "       [5.5, 2.4, 3.7, 1. ],\n",
       "       [5.8, 2.7, 3.9, 1.2],\n",
       "       [6. , 2.7, 5.1, 1.6],\n",
       "       [5.4, 3. , 4.5, 1.5],\n",
       "       [6. , 3.4, 4.5, 1.6],\n",
       "       [6.7, 3.1, 4.7, 1.5],\n",
       "       [6.3, 2.3, 4.4, 1.3],\n",
       "       [5.6, 3. , 4.1, 1.3],\n",
       "       [5.5, 2.5, 4. , 1.3],\n",
       "       [5.5, 2.6, 4.4, 1.2],\n",
       "       [6.1, 3. , 4.6, 1.4],\n",
       "       [5.8, 2.6, 4. , 1.2],\n",
       "       [5. , 2.3, 3.3, 1. ],\n",
       "       [5.6, 2.7, 4.2, 1.3],\n",
       "       [5.7, 3. , 4.2, 1.2],\n",
       "       [5.7, 2.9, 4.2, 1.3],\n",
       "       [6.2, 2.9, 4.3, 1.3],\n",
       "       [5.1, 2.5, 3. , 1.1],\n",
       "       [5.7, 2.8, 4.1, 1.3],\n",
       "       [6.3, 3.3, 6. , 2.5],\n",
       "       [5.8, 2.7, 5.1, 1.9],\n",
       "       [7.1, 3. , 5.9, 2.1],\n",
       "       [6.3, 2.9, 5.6, 1.8],\n",
       "       [6.5, 3. , 5.8, 2.2],\n",
       "       [7.6, 3. , 6.6, 2.1],\n",
       "       [4.9, 2.5, 4.5, 1.7],\n",
       "       [7.3, 2.9, 6.3, 1.8],\n",
       "       [6.7, 2.5, 5.8, 1.8],\n",
       "       [7.2, 3.6, 6.1, 2.5],\n",
       "       [6.5, 3.2, 5.1, 2. ],\n",
       "       [6.4, 2.7, 5.3, 1.9],\n",
       "       [6.8, 3. , 5.5, 2.1],\n",
       "       [5.7, 2.5, 5. , 2. ],\n",
       "       [5.8, 2.8, 5.1, 2.4],\n",
       "       [6.4, 3.2, 5.3, 2.3],\n",
       "       [6.5, 3. , 5.5, 1.8],\n",
       "       [7.7, 3.8, 6.7, 2.2],\n",
       "       [7.7, 2.6, 6.9, 2.3],\n",
       "       [6. , 2.2, 5. , 1.5],\n",
       "       [6.9, 3.2, 5.7, 2.3],\n",
       "       [5.6, 2.8, 4.9, 2. ],\n",
       "       [7.7, 2.8, 6.7, 2. ],\n",
       "       [6.3, 2.7, 4.9, 1.8],\n",
       "       [6.7, 3.3, 5.7, 2.1],\n",
       "       [7.2, 3.2, 6. , 1.8],\n",
       "       [6.2, 2.8, 4.8, 1.8],\n",
       "       [6.1, 3. , 4.9, 1.8],\n",
       "       [6.4, 2.8, 5.6, 2.1],\n",
       "       [7.2, 3. , 5.8, 1.6],\n",
       "       [7.4, 2.8, 6.1, 1.9],\n",
       "       [7.9, 3.8, 6.4, 2. ],\n",
       "       [6.4, 2.8, 5.6, 2.2],\n",
       "       [6.3, 2.8, 5.1, 1.5],\n",
       "       [6.1, 2.6, 5.6, 1.4],\n",
       "       [7.7, 3. , 6.1, 2.3],\n",
       "       [6.3, 3.4, 5.6, 2.4],\n",
       "       [6.4, 3.1, 5.5, 1.8],\n",
       "       [6. , 3. , 4.8, 1.8],\n",
       "       [6.9, 3.1, 5.4, 2.1],\n",
       "       [6.7, 3.1, 5.6, 2.4],\n",
       "       [6.9, 3.1, 5.1, 2.3],\n",
       "       [5.8, 2.7, 5.1, 1.9],\n",
       "       [6.8, 3.2, 5.9, 2.3],\n",
       "       [6.7, 3.3, 5.7, 2.5],\n",
       "       [6.7, 3. , 5.2, 2.3],\n",
       "       [6.3, 2.5, 5. , 1.9],\n",
       "       [6.5, 3. , 5.2, 2. ],\n",
       "       [6.2, 3.4, 5.4, 2.3],\n",
       "       [5.9, 3. , 5.1, 1.8]])"
      ]
     },
     "execution_count": 38,
     "metadata": {},
     "output_type": "execute_result"
    }
   ],
   "source": [
    "iris.data"
   ]
  },
  {
   "cell_type": "code",
   "execution_count": 23,
   "id": "49bfeff7-1664-4989-ab7b-f9a6d7fc8ab4",
   "metadata": {},
   "outputs": [],
   "source": [
    "from sklearn.datasets import load_breast_cancer"
   ]
  },
  {
   "cell_type": "code",
   "execution_count": 28,
   "id": "2151568a-b223-4a79-a6af-c0ec97343c96",
   "metadata": {},
   "outputs": [],
   "source": [
    "breast_cancer = load_breast_cancer()"
   ]
  },
  {
   "cell_type": "code",
   "execution_count": 32,
   "id": "c228ea59-1c07-4d53-a755-29d110841849",
   "metadata": {},
   "outputs": [
    {
     "data": {
      "text/plain": [
       "(569, 30)"
      ]
     },
     "execution_count": 32,
     "metadata": {},
     "output_type": "execute_result"
    }
   ],
   "source": [
    "breast_cancer.data.shape"
   ]
  },
  {
   "cell_type": "code",
   "execution_count": 40,
   "id": "ef232f49-bb5f-43f8-8d14-d166d321e094",
   "metadata": {},
   "outputs": [],
   "source": [
    "import numpy as np"
   ]
  },
  {
   "cell_type": "code",
   "execution_count": 42,
   "id": "e8b53add-936d-49af-a4a1-95b77dfd3575",
   "metadata": {},
   "outputs": [
    {
     "data": {
      "text/plain": [
       "array([[0.6390704 , 0.96683349, 0.45105327, 0.78656717]])"
      ]
     },
     "execution_count": 42,
     "metadata": {},
     "output_type": "execute_result"
    }
   ],
   "source": [
    "np.random.random((1,4))"
   ]
  },
  {
   "cell_type": "code",
   "execution_count": 52,
   "id": "f57bd7e7-c24e-414d-976c-8c1300826e03",
   "metadata": {},
   "outputs": [],
   "source": [
    "weights = np.array([[0.6390704 , 0.96683349, 0.45105327, 0.78656717]])"
   ]
  },
  {
   "cell_type": "code",
   "execution_count": 54,
   "id": "6d6684d5-d3da-4e71-bc12-3d0648d72d56",
   "metadata": {},
   "outputs": [],
   "source": [
    "X = np.array([[4.6, 3.1, 1.5, 0.2]])"
   ]
  },
  {
   "cell_type": "code",
   "execution_count": 60,
   "id": "d3f83330-ebf5-4f37-a03d-a327be06706b",
   "metadata": {},
   "outputs": [
    {
     "data": {
      "text/plain": [
       "6.7708009979999995"
      ]
     },
     "execution_count": 60,
     "metadata": {},
     "output_type": "execute_result"
    }
   ],
   "source": [
    "(weights * X).sum()"
   ]
  },
  {
   "cell_type": "code",
   "execution_count": 58,
   "id": "be60a6c9-5f0f-4d2f-92eb-6701cdeece39",
   "metadata": {},
   "outputs": [],
   "source": [
    "C  = 0.6"
   ]
  },
  {
   "cell_type": "code",
   "execution_count": 62,
   "id": "f9713a71-0bd3-4487-a433-bf42545e110d",
   "metadata": {},
   "outputs": [],
   "source": [
    "y = (weights * X).sum() + C"
   ]
  },
  {
   "cell_type": "code",
   "execution_count": 64,
   "id": "408a4c46-1cd2-4200-a2c6-e826a76d5c92",
   "metadata": {},
   "outputs": [
    {
     "data": {
      "text/plain": [
       "7.370800997999999"
      ]
     },
     "execution_count": 64,
     "metadata": {},
     "output_type": "execute_result"
    }
   ],
   "source": [
    "y"
   ]
  },
  {
   "cell_type": "code",
   "execution_count": 221,
   "id": "76dacfde-1de6-409c-9f57-233319fba99d",
   "metadata": {},
   "outputs": [],
   "source": [
    "y_pred = np.linspace(-10,10,100)"
   ]
  },
  {
   "cell_type": "code",
   "execution_count": 223,
   "id": "68ece048-13f9-4d0d-9bf2-2121ba82d809",
   "metadata": {},
   "outputs": [
    {
     "data": {
      "text/plain": [
       "array([-10.        ,  -9.7979798 ,  -9.5959596 ,  -9.39393939,\n",
       "        -9.19191919,  -8.98989899,  -8.78787879,  -8.58585859,\n",
       "        -8.38383838,  -8.18181818,  -7.97979798,  -7.77777778,\n",
       "        -7.57575758,  -7.37373737,  -7.17171717,  -6.96969697,\n",
       "        -6.76767677,  -6.56565657,  -6.36363636,  -6.16161616,\n",
       "        -5.95959596,  -5.75757576,  -5.55555556,  -5.35353535,\n",
       "        -5.15151515,  -4.94949495,  -4.74747475,  -4.54545455,\n",
       "        -4.34343434,  -4.14141414,  -3.93939394,  -3.73737374,\n",
       "        -3.53535354,  -3.33333333,  -3.13131313,  -2.92929293,\n",
       "        -2.72727273,  -2.52525253,  -2.32323232,  -2.12121212,\n",
       "        -1.91919192,  -1.71717172,  -1.51515152,  -1.31313131,\n",
       "        -1.11111111,  -0.90909091,  -0.70707071,  -0.50505051,\n",
       "        -0.3030303 ,  -0.1010101 ,   0.1010101 ,   0.3030303 ,\n",
       "         0.50505051,   0.70707071,   0.90909091,   1.11111111,\n",
       "         1.31313131,   1.51515152,   1.71717172,   1.91919192,\n",
       "         2.12121212,   2.32323232,   2.52525253,   2.72727273,\n",
       "         2.92929293,   3.13131313,   3.33333333,   3.53535354,\n",
       "         3.73737374,   3.93939394,   4.14141414,   4.34343434,\n",
       "         4.54545455,   4.74747475,   4.94949495,   5.15151515,\n",
       "         5.35353535,   5.55555556,   5.75757576,   5.95959596,\n",
       "         6.16161616,   6.36363636,   6.56565657,   6.76767677,\n",
       "         6.96969697,   7.17171717,   7.37373737,   7.57575758,\n",
       "         7.77777778,   7.97979798,   8.18181818,   8.38383838,\n",
       "         8.58585859,   8.78787879,   8.98989899,   9.19191919,\n",
       "         9.39393939,   9.5959596 ,   9.7979798 ,  10.        ])"
      ]
     },
     "execution_count": 223,
     "metadata": {},
     "output_type": "execute_result"
    }
   ],
   "source": [
    "y_pred"
   ]
  },
  {
   "cell_type": "code",
   "execution_count": 231,
   "id": "101046a2-8352-4532-b642-afa16457b0da",
   "metadata": {},
   "outputs": [],
   "source": [
    "sigmoid_func = 1 / (1 + np.e**(-y_pred))"
   ]
  },
  {
   "cell_type": "code",
   "execution_count": 226,
   "id": "ae9127ff-89dd-4b58-8f25-0bf8e9d1fed4",
   "metadata": {},
   "outputs": [],
   "source": [
    "import matplotlib.pyplot as plt"
   ]
  },
  {
   "cell_type": "code",
   "execution_count": 233,
   "id": "d0c33eb0-7172-445d-8580-2aee41592cd4",
   "metadata": {},
   "outputs": [
    {
     "data": {
      "image/png": "[encoded data removed]",
      "text/plain": [
       "<Figure size 640x480 with 1 Axes>"
      ]
     },
     "metadata": {},
     "output_type": "display_data"
    }
   ],
   "source": [
    "plt.plot(sigmoid_func)\n",
    "plt.show()"
   ]
  },
  {
   "cell_type": "code",
   "execution_count": null,
   "id": "f0b3b81a-4056-4cf7-a7a8-d5c81982fc45",
   "metadata": {},
   "outputs": [],
   "source": []
  },
  {
   "cell_type": "code",
   "execution_count": 237,
   "id": "f755304e-112b-49f5-9d38-69366018724f",
   "metadata": {},
   "outputs": [],
   "source": [
    "final_result = [round(i) for i in sigmoid_func]"
   ]
  },
  {
   "cell_type": "code",
   "execution_count": 241,
   "id": "58f703f8-5007-494a-a118-535185a5cb88",
   "metadata": {},
   "outputs": [
    {
     "name": "stdout",
     "output_type": "stream",
     "text": [
      "[0, 0, 0, 0, 0, 0, 0, 0, 0, 0, 0, 0, 0, 0, 0, 0, 0, 0, 0, 0, 0, 0, 0, 0, 0, 0, 0, 0, 0, 0, 0, 0, 0, 0, 0, 0, 0, 0, 0, 0, 0, 0, 0, 0, 0, 0, 0, 0, 0, 0, 1, 1, 1, 1, 1, 1, 1, 1, 1, 1, 1, 1, 1, 1, 1, 1, 1, 1, 1, 1, 1, 1, 1, 1, 1, 1, 1, 1, 1, 1, 1, 1, 1, 1, 1, 1, 1, 1, 1, 1, 1, 1, 1, 1, 1, 1, 1, 1, 1, 1]\n"
     ]
    }
   ],
   "source": [
    "print(final_result)"
   ]
  },
  {
   "cell_type": "code",
   "execution_count": 243,
   "id": "588287a3-83b5-4ea0-a7c9-3b0289f98d6e",
   "metadata": {},
   "outputs": [
    {
     "name": "stdout",
     "output_type": "stream",
     "text": [
      "[4.53978687e-05 5.55606489e-05 6.79983174e-05 8.32200197e-05\n",
      " 1.01848815e-04 1.24647146e-04 1.52547986e-04 1.86692945e-04\n",
      " 2.28478855e-04 2.79614739e-04 3.42191434e-04 4.18766684e-04\n",
      " 5.12469082e-04 6.27124987e-04 7.67413430e-04 9.39055039e-04\n",
      " 1.14904229e-03 1.40591988e-03 1.72012560e-03 2.10440443e-03\n",
      " 2.57431039e-03 3.14881358e-03 3.85103236e-03 4.70911357e-03\n",
      " 5.75728612e-03 7.03711536e-03 8.59898661e-03 1.05038445e-02\n",
      " 1.28252101e-02 1.56514861e-02 1.90885420e-02 2.32625358e-02\n",
      " 2.83228820e-02 3.44451957e-02 4.18339400e-02 5.07243606e-02\n",
      " 6.13831074e-02 7.41067363e-02 8.92170603e-02 1.07052146e-01\n",
      " 1.27951705e-01 1.52235823e-01 1.80176593e-01 2.11963334e-01\n",
      " 2.47663801e-01 2.87185901e-01 3.30246430e-01 3.76354517e-01\n",
      " 4.24816868e-01 4.74768924e-01 5.25231076e-01 5.75183132e-01\n",
      " 6.23645483e-01 6.69753570e-01 7.12814099e-01 7.52336199e-01\n",
      " 7.88036666e-01 8.19823407e-01 8.47764177e-01 8.72048295e-01\n",
      " 8.92947854e-01 9.10782940e-01 9.25893264e-01 9.38616893e-01\n",
      " 9.49275639e-01 9.58166060e-01 9.65554804e-01 9.71677118e-01\n",
      " 9.76737464e-01 9.80911458e-01 9.84348514e-01 9.87174790e-01\n",
      " 9.89496155e-01 9.91401013e-01 9.92962885e-01 9.94242714e-01\n",
      " 9.95290886e-01 9.96148968e-01 9.96851186e-01 9.97425690e-01\n",
      " 9.97895596e-01 9.98279874e-01 9.98594080e-01 9.98850958e-01\n",
      " 9.99060945e-01 9.99232587e-01 9.99372875e-01 9.99487531e-01\n",
      " 9.99581233e-01 9.99657809e-01 9.99720385e-01 9.99771521e-01\n",
      " 9.99813307e-01 9.99847452e-01 9.99875353e-01 9.99898151e-01\n",
      " 9.99916780e-01 9.99932002e-01 9.99944439e-01 9.99954602e-01]\n"
     ]
    }
   ],
   "source": [
    "print(sigmoid_func)"
   ]
  },
  {
   "cell_type": "code",
   "execution_count": null,
   "id": "84180a54-8ea4-4cd5-8903-6ed80324835e",
   "metadata": {},
   "outputs": [],
   "source": []
  }
 ],
 "metadata": {
  "kernelspec": {
   "display_name": "Python [conda env:base] *",
   "language": "python",
   "name": "conda-base-py"
  },
  "language_info": {
   "codemirror_mode": {
    "name": "ipython",
    "version": 3
   },
   "file_extension": ".py",
   "mimetype": "text/x-python",
   "name": "python",
   "nbconvert_exporter": "python",
   "pygments_lexer": "ipython3",
   "version": "3.12.7"
  }
 },
 "nbformat": 4,
 "nbformat_minor": 5
}
